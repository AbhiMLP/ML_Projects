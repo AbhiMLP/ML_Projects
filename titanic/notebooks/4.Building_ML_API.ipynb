{
 "cells": [
  {
   "cell_type": "code",
   "execution_count": null,
   "metadata": {},
   "outputs": [],
   "source": [
    "hello_world_script_file = \"C:/Users/ABHISHEK/titanic/src/models/hello_world_api.py\""
   ]
  },
  {
   "cell_type": "code",
   "execution_count": null,
   "metadata": {},
   "outputs": [],
   "source": [
    "%%writefile $hello_world_script_file\n",
    "\n",
    "from flask import Flask, request\n",
    "\n",
    "app = Flask(__name__)\n",
    "\n",
    "@app.route('/api', methods=['POST'])\n",
    "def say_hello():\n",
    "    data = request.get_json(force=True)\n",
    "    name = data['name']\n",
    "    return 'hello {0}'.format(name)\n",
    "\n",
    "if__name__ == '__main__':\n",
    "    app.run(port=10001,debug=True)"
   ]
  },
  {
   "cell_type": "code",
   "execution_count": null,
   "metadata": {},
   "outputs": [],
   "source": [
    "import json\n",
    "import requests"
   ]
  },
  {
   "cell_type": "code",
   "execution_count": null,
   "metadata": {},
   "outputs": [],
   "source": [
    "url = 'http://192.168.1.16:10001/api' # give local host ip address\n",
    "data = json.dumps({'name':'abhi'})\n",
    "r = requests.post(url,data)"
   ]
  },
  {
   "cell_type": "code",
   "execution_count": null,
   "metadata": {},
   "outputs": [],
   "source": [
    "print r.text"
   ]
  },
  {
   "cell_type": "markdown",
   "metadata": {},
   "source": [
    "### Build ML API using flask"
   ]
  },
  {
   "cell_type": "code",
   "execution_count": 1,
   "metadata": {},
   "outputs": [],
   "source": [
    "ml_api_script_file = \"C:/Users/ABHISHEK/titanic/src/models/ml_api.py\""
   ]
  },
  {
   "cell_type": "code",
   "execution_count": 4,
   "metadata": {},
   "outputs": [
    {
     "name": "stdout",
     "output_type": "stream",
     "text": [
      "Overwriting C:/Users/ABHISHEK/titanic/src/models/ml_api.py\n"
     ]
    }
   ],
   "source": [
    "%%writefile $ml_api_script_file\n",
    "from flask import Flask,request\n",
    "import pandas as pd\n",
    "import numpy as np\n",
    "import pickle\n",
    "import json\n",
    "import os\n",
    "\n",
    "app = Flask(__name__)\n",
    "\n",
    "# Load Model and Scaler files\n",
    "model_path = \"C:/Users/ABHISHEK/titanic/models\"\n",
    "model_filepath = os.path.join(model_path,'lr_model.pkl')\n",
    "scaler_filepath = os.path.join(model_path,'lr_scaler.pkl')\n",
    "\n",
    "scaler = pickle.load(open(scaler_filepath))\n",
    "model = pickle.load(open(model_filepath))\n",
    "\n",
    "#columns\n",
    "\n",
    "columns = [ u'Age', u'Fare', u'FamilySize', u'IsMother', u'IsMale',\n",
    "       u'Deck_A', u'Deck_B', u'Deck_C', u'Deck_D', u'Deck_E', u'Deck_F',\n",
    "       u'Deck_G', u'Deck_Z', u'Pclass_1', u'Pclass_2', u'Pclass_3',\n",
    "       u'Title_Lady', u'Title_Master', u'Title_Miss', u'Title_Mr',\n",
    "       u'Title_Mrs', u'Title_Officer', u'Title_Sir', u'Fare_Bin_very_low',\n",
    "       u'Fare_Bin_low', u'Fare_Bin_high', u'Fare_Bin_very_high', u'Embarked_C',\n",
    "       u'Embarked_Q', u'Embarked_S', u'AgeState_Adult', u'AgeState_Child']\n",
    "\n",
    "@app.route('/api',methods=['POST'])\n",
    "def make_prediction():\n",
    "    # read json object and convert to json string\n",
    "    data = json.dumps(requesr.get_json(force=True))\n",
    "    # create pandas data frame using json string\n",
    "    df = pd.read_json(data)\n",
    "    # extract passenger ids\n",
    "    passenger_ids = df['PassengerId'].ravel()\n",
    "    # actual survived values\n",
    "    actuals = df['Survived'].ravel()\n",
    "    # extract required columns based and convert to matrix\n",
    "    X = df[columns].as_matrix().astype('float')\n",
    "    # transform the input\n",
    "    X_scaled = scaler.transform(X)\n",
    "    # make predictions\n",
    "    predictions = model.predict(X_scaled)\n",
    "    # create response dataframe\n",
    "    df_response = pd.DataFrame({'PassengerId':passenger_ids,'Predicted':predictions,'Actual':actuals})\n",
    "    # return json\n",
    "    return df_response.to_json()\n",
    "\n",
    "def run_app():\n",
    "    app.run(port=10001,debug=True)\n",
    "run_app()    "
   ]
  },
  {
   "cell_type": "code",
   "execution_count": null,
   "metadata": {},
   "outputs": [],
   "source": []
  }
 ],
 "metadata": {
  "kernelspec": {
   "display_name": "Python 2",
   "language": "python",
   "name": "python2"
  },
  "language_info": {
   "codemirror_mode": {
    "name": "ipython",
    "version": 2
   },
   "file_extension": ".py",
   "mimetype": "text/x-python",
   "name": "python",
   "nbconvert_exporter": "python",
   "pygments_lexer": "ipython2",
   "version": "2.7.15"
  }
 },
 "nbformat": 4,
 "nbformat_minor": 2
}
